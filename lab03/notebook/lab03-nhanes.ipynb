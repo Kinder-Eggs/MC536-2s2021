{
 "cells": [
  {
   "cell_type": "markdown",
   "metadata": {},
   "source": [
    "# National Health and Nutrition Examination Survey (NHANES)\n",
    "[https://wwwn.cdc.gov/nchs/nhanes/](https://wwwn.cdc.gov/nchs/nhanes/)\n",
    "\n",
    "Este laboratório usará dados extraídos do NHANES.\n",
    "\n",
    "## NHANES datasets from 2013-2014\n",
    "\n",
    "Foram extraídos dados do [NHANES 2013-2014](https://wwwn.cdc.gov/nchs/nhanes/continuousnhanes/default.aspx?BeginYear=2013).\n",
    "\n",
    "Os dados estão disponíveis em arquivos CSV no diretório `/data/nhanes`. Lá está disponível a documentação do esquema dos arquivos."
   ]
  },
  {
   "cell_type": "markdown",
   "metadata": {},
   "source": [
    "# Tarefa 1 - Esquema Relacional\n",
    "\n",
    "Analise os arquivos CSV que estão no diretório `/data/nhanes` e escreva um esquema relacional referente às tabelas, suas chaves primárias e estrangeiras (não é SQL ainda). Coloque a chave primária com dois underlines antes e dois depois:\n",
    "\n",
    "\\__teste\\__"
   ]
  },
  {
   "cell_type": "markdown",
   "metadata": {},
   "source": [
    "Pessoa(__id__, sexo, idade) \\\n",
    "Medicamento(__codigo__, nome) \\\n",
    "Uso_Medicamento(__id_pessoa__, __codigo_medicamento__, dias_de_uso)"
   ]
  },
  {
   "cell_type": "markdown",
   "metadata": {},
   "source": [
    "## Criação das Tabelas em SQL e Importação de Dados\n",
    "\n",
    "Considere o seguinte exemplo em que é criada uma tabela em SQL e importado dados do arquivo CSV `demographic-person.csv`."
   ]
  },
  {
   "cell_type": "code",
   "execution_count": 1,
   "metadata": {},
   "outputs": [],
   "source": [
    "%defaultDatasource jdbc:h2:mem:db"
   ]
  },
  {
   "cell_type": "code",
   "execution_count": 2,
   "metadata": {},
   "outputs": [],
   "source": [
    "DROP TABLE Pessoa IF EXISTS;\n",
    "\n",
    "CREATE TABLE Pessoa (\n",
    "  Id VARCHAR(5) NOT NULL,\n",
    "  Gender INTEGER,\n",
    "  Age INTEGER,\n",
    "  PRIMARY KEY(Id)\n",
    ") AS SELECT\n",
    "    id,\n",
    "    gender,\n",
    "    age\n",
    "FROM CSVREAD('../data/nhanes/demographic-person.csv');"
   ]
  },
  {
   "cell_type": "code",
   "execution_count": 3,
   "metadata": {},
   "outputs": [
    {
     "data": {
      "application/vnd.jupyter.widget-view+json": {
       "model_id": "061b9a8a-79c4-4be9-95bd-d7a1f45f310c",
       "version_major": 2,
       "version_minor": 0
      },
      "method": "display_data"
     },
     "metadata": {},
     "output_type": "display_data"
    }
   ],
   "source": [
    "SELECT * FROM Pessoa;"
   ]
  },
  {
   "cell_type": "markdown",
   "metadata": {},
   "source": [
    "# Tarefa 2 - Criação das Tabelas em SQL e Importação de Dados\n",
    "\n",
    "Escreva instruções SQL para montar as duas tabelas restante, conforme definido no esquema relacional da **Tarefa 1**.\n",
    "\n",
    "**Importante:** não defina chave primária para a tabela de uso de medicamento.\n",
    "\n",
    "Durante a criação das tabelas, realize a importação dos dados do arquivo CSV nas tabelas criadas, conforme exemplo anterior."
   ]
  },
  {
   "cell_type": "code",
   "execution_count": 4,
   "metadata": {},
   "outputs": [],
   "source": [
    "DROP TABLE Medicamento IF EXISTS;\n",
    "DROP TABLE Uso_Medicamento IF EXISTS;\n",
    "\n",
    "CREATE TABLE Medicamento (\n",
    "    Codigo VARCHAR(6),\n",
    "    Nome VARCHAR(100),\n",
    "    PRIMARY KEY(Codigo)\n",
    ") AS SELECT\n",
    "    code,\n",
    "    name\n",
    "FROM CSVREAD('../data/nhanes/medications-drug.csv');\n",
    "\n",
    "CREATE TABLE Uso_Medicamento (\n",
    "    Id VARCHAR(5),\n",
    "    Codigo_Medicamento VARCHAR(6),\n",
    "    Dias_de_Uso INTEGER,\n",
    "    FOREIGN KEY(Id)\n",
    "        REFERENCES Pessoa(Id)\n",
    "            ON DELETE NO ACTION\n",
    "            ON UPDATE NO ACTION,\n",
    "    FOREIGN KEY(Codigo_Medicamento)\n",
    "        REFERENCES Medicamento(Codigo)\n",
    "        \n",
    ") AS SELECT\n",
    "    person_id,\n",
    "    drug_code,\n",
    "    days_use\n",
    "FROM CSVREAD('../data/nhanes/medications-use.csv');"
   ]
  },
  {
   "cell_type": "code",
   "execution_count": 11,
   "metadata": {},
   "outputs": [
    {
     "data": {
      "application/vnd.jupyter.widget-view+json": {
       "model_id": "624e6e92-7f92-4a90-af21-a8040b46caad",
       "version_major": 2,
       "version_minor": 0
      },
      "method": "display_data"
     },
     "metadata": {},
     "output_type": "display_data"
    }
   ],
   "source": [
    "SELECT * FROM Medicamento;"
   ]
  },
  {
   "cell_type": "code",
   "execution_count": 12,
   "metadata": {},
   "outputs": [
    {
     "data": {
      "application/vnd.jupyter.widget-view+json": {
       "model_id": "f26c55a1-c076-434c-8242-0d535e3be624",
       "version_major": 2,
       "version_minor": 0
      },
      "method": "display_data"
     },
     "metadata": {},
     "output_type": "display_data"
    }
   ],
   "source": [
    "SELECT * FROM Uso_Medicamento;"
   ]
  },
  {
   "cell_type": "markdown",
   "metadata": {},
   "source": [
    "# Tarefa 3 - Consultas Simples\n",
    "\n",
    "Execute as consultas a seguir."
   ]
  },
  {
   "cell_type": "markdown",
   "metadata": {},
   "source": [
    "a) Liste pessoas com idade acima de 60"
   ]
  },
  {
   "cell_type": "code",
   "execution_count": 5,
   "metadata": {},
   "outputs": [
    {
     "data": {
      "application/vnd.jupyter.widget-view+json": {
       "model_id": "eb71469e-b9e5-4ce7-a196-9d32a4f08bc1",
       "version_major": 2,
       "version_minor": 0
      },
      "method": "display_data"
     },
     "metadata": {},
     "output_type": "display_data"
    }
   ],
   "source": [
    "SELECT * FROM Pessoa WHERE Age > 60;"
   ]
  },
  {
   "cell_type": "markdown",
   "metadata": {},
   "source": [
    "b) Liste as idades das pessoas cadastradas (sem repetições)"
   ]
  },
  {
   "cell_type": "code",
   "execution_count": 6,
   "metadata": {},
   "outputs": [
    {
     "data": {
      "application/vnd.jupyter.widget-view+json": {
       "model_id": "57d029fa-0e3d-4d5f-b1de-6c3326cd7599",
       "version_major": 2,
       "version_minor": 0
      },
      "method": "display_data"
     },
     "metadata": {},
     "output_type": "display_data"
    }
   ],
   "source": [
    "SELECT DISTINCT Age FROM Pessoa"
   ]
  },
  {
   "cell_type": "markdown",
   "metadata": {},
   "source": [
    "c) Liste código das pessoas, idade, código dos medicamentos que usaram e dias de uso"
   ]
  },
  {
   "cell_type": "code",
   "execution_count": 7,
   "metadata": {},
   "outputs": [
    {
     "data": {
      "application/vnd.jupyter.widget-view+json": {
       "model_id": "6c5c5b99-b431-40fc-a772-3be9b3630630",
       "version_major": 2,
       "version_minor": 0
      },
      "method": "display_data"
     },
     "metadata": {},
     "output_type": "display_data"
    }
   ],
   "source": [
    "SELECT P.Id, P.Age, U.Codigo_Medicamento, U.Dias_de_Uso FROM Pessoa P, Uso_Medicamento U WHERE P.Id = U.Id;"
   ]
  },
  {
   "cell_type": "markdown",
   "metadata": {},
   "source": [
    "d) Liste código das Pessoas, idade, nome dos medicamentos que usaram e quantos dias de uso"
   ]
  },
  {
   "cell_type": "code",
   "execution_count": 8,
   "metadata": {},
   "outputs": [
    {
     "data": {
      "application/vnd.jupyter.widget-view+json": {
       "model_id": "1c5711c9-c218-45e7-ae5f-d96e2b204c8c",
       "version_major": 2,
       "version_minor": 0
      },
      "method": "display_data"
     },
     "metadata": {},
     "output_type": "display_data"
    }
   ],
   "source": [
    "SELECT P.Id, P.Age, M.Nome, U.Dias_de_Uso FROM Pessoa P, Medicamento M, Uso_Medicamento U WHERE P.Id = U.Id AND M.Codigo = U.Codigo_Medicamento;"
   ]
  },
  {
   "cell_type": "markdown",
   "metadata": {},
   "source": [
    "e) Liste nome dos medicamentos que foram usados por pessoas (sem repetições)"
   ]
  },
  {
   "cell_type": "code",
   "execution_count": 9,
   "metadata": {},
   "outputs": [
    {
     "data": {
      "application/vnd.jupyter.widget-view+json": {
       "model_id": "940d16b7-77e5-46b5-86dc-b1e480d5b019",
       "version_major": 2,
       "version_minor": 0
      },
      "method": "display_data"
     },
     "metadata": {},
     "output_type": "display_data"
    }
   ],
   "source": [
    "SELECT DISTINCT M.Nome FROM Medicamento M, Uso_Medicamento U WHERE M.Codigo = U.Codigo_Medicamento;"
   ]
  },
  {
   "cell_type": "markdown",
   "metadata": {},
   "source": [
    "f) Liste nome dos medicamentos usados por mais de 2.000 dias (sem repetições)"
   ]
  },
  {
   "cell_type": "code",
   "execution_count": 10,
   "metadata": {},
   "outputs": [
    {
     "data": {
      "application/vnd.jupyter.widget-view+json": {
       "model_id": "762fe92c-63bb-41a2-8737-10530306b12d",
       "version_major": 2,
       "version_minor": 0
      },
      "method": "display_data"
     },
     "metadata": {},
     "output_type": "display_data"
    }
   ],
   "source": [
    "SELECT DISTINCT M.Nome FROM Medicamento M, Uso_Medicamento U WHERE M.Codigo = U.Codigo_Medicamento AND U.Dias_de_Uso > 2000;"
   ]
  },
  {
   "cell_type": "code",
   "execution_count": null,
   "metadata": {},
   "outputs": [],
   "source": []
  }
 ],
 "metadata": {
  "kernelspec": {
   "display_name": "SQL",
   "language": "SQL",
   "name": "sql"
  },
  "language_info": {
   "codemirror_mode": "sql",
   "file_extension": ".sql",
   "mimetype": "",
   "name": "SQL",
   "nbconverter_exporter": "",
   "version": ""
  },
  "toc": {
   "base_numbering": 1,
   "nav_menu": {},
   "number_sections": false,
   "sideBar": false,
   "skip_h1_title": false,
   "title_cell": "Table of Contents",
   "title_sidebar": "Contents",
   "toc_cell": false,
   "toc_position": {},
   "toc_section_display": false,
   "toc_window_display": false
  }
 },
 "nbformat": 4,
 "nbformat_minor": 4
}
