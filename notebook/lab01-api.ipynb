{
 "cells": [
  {
   "cell_type": "markdown",
   "metadata": {},
   "source": [
    "# Lab 1 - API de Acesso a Dados"
   ]
  },
  {
   "cell_type": "markdown",
   "metadata": {},
   "source": [
    "# Tarefa 1\n",
    "\n",
    "Das fontes de dados disponíveis, tente encontrar fontes com formatos diferentes e importá-las via Python. Busque pelo menos dois formatos."
   ]
  },
  {
   "cell_type": "code",
   "execution_count": 13,
   "metadata": {},
   "outputs": [
    {
     "name": "stdout",
     "output_type": "stream",
     "text": [
      "       iso_code continent     location        date  total_cases  new_cases  \\\n",
      "0           AFG      Asia  Afghanistan  2020-02-24          1.0        1.0   \n",
      "1           AFG      Asia  Afghanistan  2020-02-25          1.0        0.0   \n",
      "2           AFG      Asia  Afghanistan  2020-02-26          1.0        0.0   \n",
      "3           AFG      Asia  Afghanistan  2020-02-27          1.0        0.0   \n",
      "4           AFG      Asia  Afghanistan  2020-02-28          1.0        0.0   \n",
      "...         ...       ...          ...         ...          ...        ...   \n",
      "110893      ZWE    Africa     Zimbabwe  2021-08-16     120088.0        0.0   \n",
      "110894      ZWE    Africa     Zimbabwe  2021-08-17     121046.0      958.0   \n",
      "110895      ZWE    Africa     Zimbabwe  2021-08-18     121498.0      452.0   \n",
      "110896      ZWE    Africa     Zimbabwe  2021-08-19     121902.0      404.0   \n",
      "110897      ZWE    Africa     Zimbabwe  2021-08-20     121902.0        0.0   \n",
      "\n",
      "        new_cases_smoothed  total_deaths  new_deaths  new_deaths_smoothed  \\\n",
      "0                      NaN           NaN         NaN                  NaN   \n",
      "1                      NaN           NaN         NaN                  NaN   \n",
      "2                      NaN           NaN         NaN                  NaN   \n",
      "3                      NaN           NaN         NaN                  NaN   \n",
      "4                      NaN           NaN         NaN                  NaN   \n",
      "...                    ...           ...         ...                  ...   \n",
      "110893             462.143        4109.0         0.0               27.143   \n",
      "110894             541.143        4156.0        47.0               29.429   \n",
      "110895             506.286        4181.0        25.0               27.143   \n",
      "110896             449.714        4198.0        17.0               21.571   \n",
      "110897             342.000        4198.0         0.0               17.857   \n",
      "\n",
      "        ...  extreme_poverty  cardiovasc_death_rate  diabetes_prevalence  \\\n",
      "0       ...              NaN                597.029                 9.59   \n",
      "1       ...              NaN                597.029                 9.59   \n",
      "2       ...              NaN                597.029                 9.59   \n",
      "3       ...              NaN                597.029                 9.59   \n",
      "4       ...              NaN                597.029                 9.59   \n",
      "...     ...              ...                    ...                  ...   \n",
      "110893  ...             21.4                307.846                 1.82   \n",
      "110894  ...             21.4                307.846                 1.82   \n",
      "110895  ...             21.4                307.846                 1.82   \n",
      "110896  ...             21.4                307.846                 1.82   \n",
      "110897  ...             21.4                307.846                 1.82   \n",
      "\n",
      "        female_smokers  male_smokers  handwashing_facilities  \\\n",
      "0                  NaN           NaN                  37.746   \n",
      "1                  NaN           NaN                  37.746   \n",
      "2                  NaN           NaN                  37.746   \n",
      "3                  NaN           NaN                  37.746   \n",
      "4                  NaN           NaN                  37.746   \n",
      "...                ...           ...                     ...   \n",
      "110893             1.6          30.7                  36.791   \n",
      "110894             1.6          30.7                  36.791   \n",
      "110895             1.6          30.7                  36.791   \n",
      "110896             1.6          30.7                  36.791   \n",
      "110897             1.6          30.7                  36.791   \n",
      "\n",
      "        hospital_beds_per_thousand  life_expectancy  human_development_index  \\\n",
      "0                              0.5            64.83                    0.511   \n",
      "1                              0.5            64.83                    0.511   \n",
      "2                              0.5            64.83                    0.511   \n",
      "3                              0.5            64.83                    0.511   \n",
      "4                              0.5            64.83                    0.511   \n",
      "...                            ...              ...                      ...   \n",
      "110893                         1.7            61.49                    0.571   \n",
      "110894                         1.7            61.49                    0.571   \n",
      "110895                         1.7            61.49                    0.571   \n",
      "110896                         1.7            61.49                    0.571   \n",
      "110897                         1.7            61.49                    0.571   \n",
      "\n",
      "        excess_mortality  \n",
      "0                    NaN  \n",
      "1                    NaN  \n",
      "2                    NaN  \n",
      "3                    NaN  \n",
      "4                    NaN  \n",
      "...                  ...  \n",
      "110893               NaN  \n",
      "110894               NaN  \n",
      "110895               NaN  \n",
      "110896               NaN  \n",
      "110897               NaN  \n",
      "\n",
      "[110898 rows x 62 columns]\n"
     ]
    }
   ],
   "source": [
    "import pandas as pd\n",
    "covid_data = pd.read_csv(\"https://covid.ourworldindata.org/data/owid-covid-data.csv\")\n",
    "print(covid_data)"
   ]
  },
  {
   "cell_type": "code",
   "execution_count": null,
   "metadata": {},
   "outputs": [],
   "source": []
  },
  {
   "cell_type": "markdown",
   "metadata": {},
   "source": [
    "# Tarefa 2\n",
    "\n",
    "## Engenharia reversa\n",
    "\n",
    "Monte um diagramas que representem modelos dos dados que você terá acesso e como pretende associá-los. Coloque abaixo uma imagem do diagrama."
   ]
  },
  {
   "cell_type": "code",
   "execution_count": null,
   "metadata": {},
   "outputs": [],
   "source": []
  }
 ],
 "metadata": {
  "kernelspec": {
   "display_name": "Python 3",
   "language": "python",
   "name": "python3"
  },
  "language_info": {
   "codemirror_mode": {
    "name": "ipython",
    "version": 3
   },
   "file_extension": ".py",
   "mimetype": "text/x-python",
   "name": "python",
   "nbconvert_exporter": "python",
   "pygments_lexer": "ipython3",
   "version": "3.7.10"
  },
  "toc": {
   "base_numbering": 1,
   "nav_menu": {},
   "number_sections": false,
   "sideBar": false,
   "skip_h1_title": false,
   "title_cell": "Table of Contents",
   "title_sidebar": "Contents",
   "toc_cell": false,
   "toc_position": {},
   "toc_section_display": false,
   "toc_window_display": false
  }
 },
 "nbformat": 4,
 "nbformat_minor": 4
}
